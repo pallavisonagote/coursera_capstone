{
 "cells": [
  {
   "cell_type": "markdown",
   "metadata": {},
   "source": [
    "# The Battle of the Neighborhoods"
   ]
  },
  {
   "cell_type": "markdown",
   "metadata": {},
   "source": [
    "## Data:"
   ]
  },
  {
   "cell_type": "markdown",
   "metadata": {},
   "source": [
    "One city will be analyzed in this project : London.\n",
    "\n",
    "We will be using the below datasets for analyzing London.\n",
    "\n",
    "In this project, three different datasets will be used to solve the problem:\n",
    "<li>London Recorded Crime,</li>\n",
    "<li>List of London Boroughs,</li>\n",
    "<li>Foursquare API.</li>\n",
    "\n",
    "After acquiring them from original and reliable sources, they will be wrangled and cleansed into more useful forms for further analysis."
   ]
  },
  {
   "cell_type": "markdown",
   "metadata": {},
   "source": [
    "## Data1:"
   ]
  },
  {
   "cell_type": "markdown",
   "metadata": {},
   "source": [
    "### a. London Recorded Crime :"
   ]
  },
  {
   "cell_type": "markdown",
   "metadata": {},
   "source": [
    "London crime records by boroughs in the last 24 months\n",
    "\n",
    "source: London Datastore\n",
    "\n",
    "website url: https://data.london.gov.uk/dataset/recorded_crime_summary\n",
    "\n",
    "data url: https://data.london.gov.uk/download/recorded_crime_summary/d2e9ccfc-a054-41e3-89fb-53c2bc3ed87a/MPS%20Borough%20Level%20Crime%20%28most%20recent%2024%20months%29.csv'"
   ]
  },
  {
   "cell_type": "markdown",
   "metadata": {},
   "source": [
    "### b. List of London Boroughs"
   ]
  },
  {
   "cell_type": "markdown",
   "metadata": {},
   "source": [
    "Information on boroughs and their population & coordinates:\n",
    "\n",
    "<li>Population can be used to calcuate the ratio of reported crime to population for better comparison.</li>\n",
    "<li>Coordinates can be used to get neighborhood data from Foursquare.</li>\n",
    "source: Wikipedia;\n",
    "\n",
    "url: https://en.wikipedia.org/wiki/List_of_London_boroughs"
   ]
  },
  {
   "cell_type": "markdown",
   "metadata": {},
   "source": [
    "### c. Foursquare API"
   ]
  },
  {
   "cell_type": "markdown",
   "metadata": {},
   "source": [
    "List of top 50 popular places in the neighborhood\n",
    "\n",
    "source: Foursquare\n",
    "\n",
    "url: https://api.foursquare.com"
   ]
  }
 ],
 "metadata": {
  "kernelspec": {
   "display_name": "Python 3",
   "language": "python",
   "name": "python3"
  },
  "language_info": {
   "codemirror_mode": {
    "name": "ipython",
    "version": 3
   },
   "file_extension": ".py",
   "mimetype": "text/x-python",
   "name": "python",
   "nbconvert_exporter": "python",
   "pygments_lexer": "ipython3",
   "version": "3.7.4"
  }
 },
 "nbformat": 4,
 "nbformat_minor": 2
}
